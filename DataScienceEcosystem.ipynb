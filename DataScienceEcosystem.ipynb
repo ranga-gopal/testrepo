{
  "metadata": {
    "kernelspec": {
      "name": "python",
      "display_name": "Python (Pyodide)",
      "language": "python"
    },
    "language_info": {
      "codemirror_mode": {
        "name": "python",
        "version": 3
      },
      "file_extension": ".py",
      "mimetype": "text/x-python",
      "name": "python",
      "nbconvert_exporter": "python",
      "pygments_lexer": "ipython3",
      "version": "3.8"
    }
  },
  "nbformat_minor": 5,
  "nbformat": 4,
  "cells": [
    {
      "id": "0b95a9fe-796f-4613-b525-90310d5acccb",
      "cell_type": "markdown",
      "source": "# Data Science Tools and Ecosystem ",
      "metadata": {}
    },
    {
      "id": "d5df1ce7-213d-491f-b593-7de9c26629c2",
      "cell_type": "code",
      "source": "",
      "metadata": {
        "trusted": true
      },
      "outputs": [],
      "execution_count": null
    },
    {
      "id": "f3007cf1-79c0-4d44-bcb3-1fdd3986d39d",
      "cell_type": "markdown",
      "source": "####  In this notebook, Data Science Tools and Ecosystem are summarized.",
      "metadata": {}
    },
    {
      "id": "c83a2154-6a9f-4a4a-af78-3003721263a3",
      "cell_type": "markdown",
      "source": "__Objectives:__\n+ Introductions to the tools for data science.\n+ Introductions to the languages using in data science.\n+ Libraries of data science.\n+ Introduction to Jupyter Notebook.",
      "metadata": {}
    },
    {
      "id": "d0069a76-ea4e-463b-ae7f-ec87e6e71d44",
      "cell_type": "markdown",
      "source": "Some of the popular languages that Data Scientists use are\n1. Python\n2. R\n3. SQL",
      "metadata": {}
    },
    {
      "id": "9fb533c6-11fc-4868-abc0-26cbc107c7fa",
      "cell_type": "markdown",
      "source": "Some of the commonly used libraries used by Data Scientists include:\n1. Pandas \n2. NumPy \n3. Matplotlib \n4. Scikit-learn\n5. TensorFlow ",
      "metadata": {}
    },
    {
      "id": "f2ceb401-d81c-47d8-a67e-004937aec21b",
      "cell_type": "markdown",
      "source": "| Data Science Tools|\n|-------------------|\n|MySQL|\n|Apache AirFlow|\n|Pixie Dust|\n|PredictionIO|\n|ModelDB|",
      "metadata": {}
    },
    {
      "id": "edbe84f2-94be-4364-87c5-517c524b14a4",
      "cell_type": "markdown",
      "source": "### Below are a few examples of evaluating arithmetic expressions in Python.",
      "metadata": {}
    },
    {
      "id": "a0535e02-d1a2-476b-89f2-21b6aa42f9ea",
      "cell_type": "code",
      "source": "#This a simple arithmetic expression to mutiply then add integers\n(3 * 4) + 5",
      "metadata": {
        "trusted": true
      },
      "outputs": [
        {
          "execution_count": 6,
          "output_type": "execute_result",
          "data": {
            "text/plain": "17"
          },
          "metadata": {}
        }
      ],
      "execution_count": 6
    },
    {
      "id": "cbd5075d-8ef3-494d-8a88-71ede84452e8",
      "cell_type": "code",
      "source": "#This will convert 200 minutes to hours by diving by 60\n200/60",
      "metadata": {
        "trusted": true
      },
      "outputs": [
        {
          "execution_count": 8,
          "output_type": "execute_result",
          "data": {
            "text/plain": "3.3333333333333335"
          },
          "metadata": {}
        }
      ],
      "execution_count": 8
    },
    {
      "id": "d43e211b-105f-4e61-812c-26c0cb8e4807",
      "cell_type": "markdown",
      "source": "## Author\nRangachakkaravarthy Gopal.",
      "metadata": {}
    },
    {
      "id": "a1e2de3b-416d-4f7e-a054-2fc2b4d395c0",
      "cell_type": "code",
      "source": "",
      "metadata": {
        "trusted": true
      },
      "outputs": [],
      "execution_count": null
    }
  ]
}